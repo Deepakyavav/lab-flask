{
 "cells": [
  {
   "cell_type": "markdown",
   "metadata": {},
   "source": [
    "# 1"
   ]
  },
  {
   "cell_type": "code",
   "execution_count": 1,
   "metadata": {},
   "outputs": [],
   "source": [
    "import pandas as pd"
   ]
  },
  {
   "cell_type": "code",
   "execution_count": 2,
   "metadata": {},
   "outputs": [],
   "source": [
    "data=[4,8,15,16,23,42]\n",
    "data_series=pd.Series(data)"
   ]
  },
  {
   "cell_type": "code",
   "execution_count": 3,
   "metadata": {},
   "outputs": [
    {
     "data": {
      "text/plain": [
       "0     4\n",
       "1     8\n",
       "2    15\n",
       "3    16\n",
       "4    23\n",
       "5    42\n",
       "dtype: int64"
      ]
     },
     "execution_count": 3,
     "metadata": {},
     "output_type": "execute_result"
    }
   ],
   "source": [
    "print(data_series)"
   ]
  },
  {
   "cell_type": "code",
   "execution_count": 4,
   "metadata": {},
   "outputs": [
    {
     "name": "stdout",
     "output_type": "stream",
     "text": [
      "<class 'pandas.core.series.Series'>\n"
     ]
    }
   ],
   "source": [
    "print(type(data_series))"
   ]
  },
  {
   "cell_type": "markdown",
   "metadata": {},
   "source": [
    "# 2"
   ]
  },
  {
   "cell_type": "code",
   "execution_count": 7,
   "metadata": {},
   "outputs": [
    {
     "name": "stdout",
     "output_type": "stream",
     "text": [
      "0     1\n",
      "1     3\n",
      "2     5\n",
      "3     7\n",
      "4     9\n",
      "5    11\n",
      "6    13\n",
      "7    15\n",
      "8    17\n",
      "9    19\n",
      "dtype: int64\n"
     ]
    }
   ],
   "source": [
    "l=list(range(1,20,2))\n",
    "l1=pd.Series(l)\n",
    "print(l1)"
   ]
  },
  {
   "cell_type": "markdown",
   "metadata": {},
   "source": [
    "# 3"
   ]
  },
  {
   "cell_type": "code",
   "execution_count": 12,
   "metadata": {},
   "outputs": [],
   "source": [
    "Name=['Alice','Bob','Claire']\n",
    "Age=[25,30,27]\n",
    "Gender=['Female','Male','Female']\n",
    "\n",
    "dict={\"Name\":Name,\"Age\":Age,\"Gender\":Gender}\n",
    "\n",
    "df=pd.DataFrame(dict)"
   ]
  },
  {
   "cell_type": "code",
   "execution_count": 16,
   "metadata": {},
   "outputs": [
    {
     "data": {
      "text/html": [
       "<div>\n",
       "<style scoped>\n",
       "    .dataframe tbody tr th:only-of-type {\n",
       "        vertical-align: middle;\n",
       "    }\n",
       "\n",
       "    .dataframe tbody tr th {\n",
       "        vertical-align: top;\n",
       "    }\n",
       "\n",
       "    .dataframe thead th {\n",
       "        text-align: right;\n",
       "    }\n",
       "</style>\n",
       "<table border=\"1\" class=\"dataframe\">\n",
       "  <thead>\n",
       "    <tr style=\"text-align: right;\">\n",
       "      <th></th>\n",
       "      <th>Name</th>\n",
       "      <th>Age</th>\n",
       "      <th>Gender</th>\n",
       "    </tr>\n",
       "  </thead>\n",
       "  <tbody>\n",
       "    <tr>\n",
       "      <th>0</th>\n",
       "      <td>Alice</td>\n",
       "      <td>25</td>\n",
       "      <td>Female</td>\n",
       "    </tr>\n",
       "    <tr>\n",
       "      <th>1</th>\n",
       "      <td>Bob</td>\n",
       "      <td>30</td>\n",
       "      <td>Male</td>\n",
       "    </tr>\n",
       "    <tr>\n",
       "      <th>2</th>\n",
       "      <td>Claire</td>\n",
       "      <td>27</td>\n",
       "      <td>Female</td>\n",
       "    </tr>\n",
       "  </tbody>\n",
       "</table>\n",
       "</div>"
      ],
      "text/plain": [
       "     Name  Age  Gender\n",
       "0   Alice   25  Female\n",
       "1     Bob   30    Male\n",
       "2  Claire   27  Female"
      ]
     },
     "execution_count": 16,
     "metadata": {},
     "output_type": "execute_result"
    }
   ],
   "source": [
    "df"
   ]
  },
  {
   "cell_type": "code",
   "execution_count": 15,
   "metadata": {},
   "outputs": [
    {
     "name": "stdout",
     "output_type": "stream",
     "text": [
      "     Name  Age  Gender\n",
      "0   Alice   25  Female\n",
      "1     Bob   30    Male\n",
      "2  Claire   27  Female\n"
     ]
    }
   ],
   "source": [
    "print(df)"
   ]
  },
  {
   "cell_type": "code",
   "execution_count": 14,
   "metadata": {},
   "outputs": [
    {
     "data": {
      "text/plain": [
       "pandas.core.frame.DataFrame"
      ]
     },
     "execution_count": 14,
     "metadata": {},
     "output_type": "execute_result"
    }
   ],
   "source": [
    "type(df)"
   ]
  },
  {
   "cell_type": "markdown",
   "metadata": {},
   "source": [
    "# 4"
   ]
  },
  {
   "cell_type": "markdown",
   "metadata": {},
   "source": [
    "in the table, a Pandas Series is a 1D array of data, but a single-column DataFrame is a 2D table with one column. The main distinction between the two is this. For a single-column DataFrame, an index can be optional, but a Series has to have an index defined.\n",
    "\n",
    "A single-column DataFrame comprises a single column with a label while a Series lacks any columns or column labels. Finally, a single-column DataFrame also provides an optional name for the column, whereas a Series can also include an optional name"
   ]
  },
  {
   "cell_type": "code",
   "execution_count": 18,
   "metadata": {},
   "outputs": [
    {
     "data": {
      "text/html": [
       "<div>\n",
       "<style scoped>\n",
       "    .dataframe tbody tr th:only-of-type {\n",
       "        vertical-align: middle;\n",
       "    }\n",
       "\n",
       "    .dataframe tbody tr th {\n",
       "        vertical-align: top;\n",
       "    }\n",
       "\n",
       "    .dataframe thead th {\n",
       "        text-align: right;\n",
       "    }\n",
       "</style>\n",
       "<table border=\"1\" class=\"dataframe\">\n",
       "  <thead>\n",
       "    <tr style=\"text-align: right;\">\n",
       "      <th></th>\n",
       "      <th>Name</th>\n",
       "      <th>Age</th>\n",
       "      <th>Gender</th>\n",
       "    </tr>\n",
       "  </thead>\n",
       "  <tbody>\n",
       "    <tr>\n",
       "      <th>0</th>\n",
       "      <td>Alice</td>\n",
       "      <td>25</td>\n",
       "      <td>Female</td>\n",
       "    </tr>\n",
       "    <tr>\n",
       "      <th>1</th>\n",
       "      <td>Bob</td>\n",
       "      <td>30</td>\n",
       "      <td>Male</td>\n",
       "    </tr>\n",
       "    <tr>\n",
       "      <th>2</th>\n",
       "      <td>Claire</td>\n",
       "      <td>27</td>\n",
       "      <td>Female</td>\n",
       "    </tr>\n",
       "  </tbody>\n",
       "</table>\n",
       "</div>"
      ],
      "text/plain": [
       "     Name  Age  Gender\n",
       "0   Alice   25  Female\n",
       "1     Bob   30    Male\n",
       "2  Claire   27  Female"
      ]
     },
     "execution_count": 18,
     "metadata": {},
     "output_type": "execute_result"
    }
   ],
   "source": [
    "# For instance\n",
    "df"
   ]
  },
  {
   "cell_type": "code",
   "execution_count": 19,
   "metadata": {},
   "outputs": [],
   "source": [
    "# this df is an data frame"
   ]
  },
  {
   "cell_type": "code",
   "execution_count": 22,
   "metadata": {},
   "outputs": [
    {
     "data": {
      "text/plain": [
       "0     Alice\n",
       "1       Bob\n",
       "2    Claire\n",
       "Name: Name, dtype: object"
      ]
     },
     "execution_count": 22,
     "metadata": {},
     "output_type": "execute_result"
    }
   ],
   "source": [
    "data=df['Name']\n",
    "data"
   ]
  },
  {
   "cell_type": "code",
   "execution_count": 24,
   "metadata": {},
   "outputs": [
    {
     "data": {
      "text/plain": [
       "pandas.core.series.Series"
      ]
     },
     "execution_count": 24,
     "metadata": {},
     "output_type": "execute_result"
    }
   ],
   "source": [
    "# this is pandas series\n",
    "type(data)"
   ]
  },
  {
   "cell_type": "markdown",
   "metadata": {},
   "source": [
    "# 5"
   ]
  },
  {
   "cell_type": "markdown",
   "metadata": {},
   "source": [
    "Remove Column from pandas DataFrame\n",
    "\n",
    "Add New Column to pandas DataFrame\n",
    "\n",
    "Merge Two pandas DataFrames\n",
    "\n",
    "Rename Columns of pandas DataFrame\n",
    "\n",
    "Remove Row from pandas DataFrame\n",
    "\n",
    "Append Rows of Two pandas DataFrames\n",
    "\n",
    "Add New Row to pandas DataFrame\n",
    "\n",
    "Sort Rows of pandas DataFrame"
   ]
  },
  {
   "cell_type": "code",
   "execution_count": 25,
   "metadata": {},
   "outputs": [
    {
     "name": "stdout",
     "output_type": "stream",
     "text": [
      "  x1  x2 x3  x4\n",
      "0  x  15  a  20\n",
      "1  y  16  b  18\n",
      "2  x  17  c  16\n",
      "3  y  18  d  14\n",
      "4  x  19  e  12\n",
      "5  x  20  f  10\n"
     ]
    }
   ],
   "source": [
    "data = pd.DataFrame({\"x1\":[\"x\", \"y\", \"x\", \"y\", \"x\", \"x\"],  # Create pandas DataFrame\n",
    "                     \"x2\":range(15, 21),\n",
    "                     \"x3\":[\"a\", \"b\", \"c\", \"d\", \"e\", \"f\"],\n",
    "                     \"x4\":range(20, 8, - 2)})\n",
    "print(data)                                                # Print pandas DataFrame"
   ]
  },
  {
   "cell_type": "code",
   "execution_count": 26,
   "metadata": {},
   "outputs": [
    {
     "name": "stdout",
     "output_type": "stream",
     "text": [
      "  x1  x2  x4\n",
      "0  x  15  20\n",
      "1  y  16  18\n",
      "2  x  17  16\n",
      "3  y  18  14\n",
      "4  x  19  12\n",
      "5  x  20  10\n"
     ]
    }
   ],
   "source": [
    "# Remove Column from pandas DataFrame\n",
    "data_drop = data.drop(\"x3\", axis = 1)                      # Drop variable from DataFrame\n",
    "print(data_drop)    "
   ]
  },
  {
   "cell_type": "code",
   "execution_count": 27,
   "metadata": {},
   "outputs": [
    {
     "name": "stdout",
     "output_type": "stream",
     "text": [
      "['foo', 'bar', 'foo', 'bar', 'foo', 'bar']\n"
     ]
    }
   ],
   "source": [
    "# Add New Column to pandas DataFrame\n",
    "x5 = [\"foo\", \"bar\", \"foo\", \"bar\", \"foo\", \"bar\"]            # Create list\n",
    "print(x5)"
   ]
  },
  {
   "cell_type": "code",
   "execution_count": 28,
   "metadata": {},
   "outputs": [
    {
     "name": "stdout",
     "output_type": "stream",
     "text": [
      "  x1  x2 x3  x4   x5\n",
      "0  x  15  a  20  foo\n",
      "1  y  16  b  18  bar\n",
      "2  x  17  c  16  foo\n",
      "3  y  18  d  14  bar\n",
      "4  x  19  e  12  foo\n",
      "5  x  20  f  10  bar\n"
     ]
    }
   ],
   "source": [
    "data_add = data.assign(x5 = x5)                            # Add new column\n",
    "print(data_add)  "
   ]
  },
  {
   "cell_type": "code",
   "execution_count": 29,
   "metadata": {},
   "outputs": [
    {
     "name": "stdout",
     "output_type": "stream",
     "text": [
      "  x3   y1   y2\n",
      "0  c  101  foo\n",
      "1  d  102  bar\n",
      "2  e  103  foo\n",
      "3  f  104  bar\n",
      "4  g  105  foo\n",
      "5  h  106  foo\n"
     ]
    }
   ],
   "source": [
    "# Merge Two pandas DataFrames\n",
    "data_add = pd.DataFrame({\"x3\":[\"c\", \"d\", \"e\", \"f\", \"g\", \"h\"], # Create pandas DataFrame for merge\n",
    "                         \"y1\":range(101, 107),\n",
    "                         \"y2\":[\"foo\", \"bar\", \"foo\", \"bar\", \"foo\", \"foo\"]})\n",
    "print(data_add) "
   ]
  },
  {
   "cell_type": "code",
   "execution_count": 30,
   "metadata": {},
   "outputs": [
    {
     "name": "stdout",
     "output_type": "stream",
     "text": [
      "    x1    x2 x3    x4     y1   y2\n",
      "0    x  15.0  a  20.0    NaN  NaN\n",
      "1    y  16.0  b  18.0    NaN  NaN\n",
      "2    x  17.0  c  16.0  101.0  foo\n",
      "3    y  18.0  d  14.0  102.0  bar\n",
      "4    x  19.0  e  12.0  103.0  foo\n",
      "5    x  20.0  f  10.0  104.0  bar\n",
      "6  NaN   NaN  g   NaN  105.0  foo\n",
      "7  NaN   NaN  h   NaN  106.0  foo\n"
     ]
    }
   ],
   "source": [
    "data_merge = pd.merge(data,                                # Merge two pandas DataFrames\n",
    "                      data_add,\n",
    "                      on = \"x3\",\n",
    "                      how = \"outer\")\n",
    "print(data_merge)  "
   ]
  },
  {
   "cell_type": "code",
   "execution_count": 31,
   "metadata": {},
   "outputs": [
    {
     "name": "stdout",
     "output_type": "stream",
     "text": [
      "  col1  col2 col3  col4\n",
      "0    x    15    a    20\n",
      "1    y    16    b    18\n",
      "2    x    17    c    16\n",
      "3    y    18    d    14\n",
      "4    x    19    e    12\n",
      "5    x    20    f    10\n"
     ]
    }
   ],
   "source": [
    "# Rename Columns of pandas DataFrame\n",
    "data_rename = data.copy()                                  # Create copy of DataFrame\n",
    "data_rename.columns = [\"col1\", \"col2\", \"col3\", \"col4\"]     # Use columns attribute\n",
    "print(data_rename)"
   ]
  },
  {
   "cell_type": "code",
   "execution_count": 32,
   "metadata": {},
   "outputs": [
    {
     "name": "stdout",
     "output_type": "stream",
     "text": [
      "  x1  x2 x3  x4\n",
      "0  x  15  a  20\n",
      "2  x  17  c  16\n",
      "4  x  19  e  12\n",
      "5  x  20  f  10\n"
     ]
    }
   ],
   "source": [
    "#  Remove Row from pandas DataFrame\n",
    "data_remove = data[data.x1 == \"x\"]                         # Remove certain rows\n",
    "print(data_remove)"
   ]
  },
  {
   "cell_type": "code",
   "execution_count": 33,
   "metadata": {},
   "outputs": [
    {
     "name": "stdout",
     "output_type": "stream",
     "text": [
      "['a', 'b', 'c', 'd']\n"
     ]
    }
   ],
   "source": [
    "# Add New Row to pandas DataFrame\n",
    "new_row = [\"a\", \"b\", \"c\", \"d\"]                             # Create list\n",
    "print(new_row)  "
   ]
  },
  {
   "cell_type": "code",
   "execution_count": 34,
   "metadata": {},
   "outputs": [
    {
     "name": "stdout",
     "output_type": "stream",
     "text": [
      "  x1  x2 x3  x4\n",
      "0  x  15  a  20\n",
      "1  y  16  b  18\n",
      "2  x  17  c  16\n",
      "3  y  18  d  14\n",
      "4  x  19  e  12\n",
      "5  x  20  f  10\n",
      "6  a   b  c   d\n"
     ]
    }
   ],
   "source": [
    "data_new3 = data.copy()                                    # Create copy of DataFrame\n",
    "data_new3.loc[6] = new_row                                 # Append new row to DataFrame\n",
    "print(data_new3)"
   ]
  },
  {
   "cell_type": "code",
   "execution_count": 35,
   "metadata": {},
   "outputs": [
    {
     "name": "stdout",
     "output_type": "stream",
     "text": [
      "    x1  x2 x3  x4\n",
      "0  foo   5  a  20\n",
      "1  foo   6  s  19\n",
      "2  foo   7  d  18\n",
      "3  bar   8  f  17\n",
      "4  bar   9  g  16\n"
     ]
    }
   ],
   "source": [
    "# Append Rows of Two pandas DataFrames\n",
    "data_new_rows = pd.DataFrame({\"x1\":[\"foo\", \"foo\", \"foo\", \"bar\", \"bar\"], # Create pandas DataFrame\n",
    "                              \"x2\":range(5, 10),\n",
    "                              \"x3\":[\"a\", \"s\", \"d\", \"f\", \"g\"],\n",
    "                              \"x4\":range(20, 15, - 1)})\n",
    "print(data_new_rows)    "
   ]
  },
  {
   "cell_type": "code",
   "execution_count": 36,
   "metadata": {},
   "outputs": [
    {
     "name": "stdout",
     "output_type": "stream",
     "text": [
      "     x1  x2 x3  x4\n",
      "0     x  15  a  20\n",
      "1     y  16  b  18\n",
      "2     x  17  c  16\n",
      "3     y  18  d  14\n",
      "4     x  19  e  12\n",
      "5     x  20  f  10\n",
      "6   foo   5  a  20\n",
      "7   foo   6  s  19\n",
      "8   foo   7  d  18\n",
      "9   bar   8  f  17\n",
      "10  bar   9  g  16\n"
     ]
    }
   ],
   "source": [
    "data_append = pd.concat([data,                             # Append DataFrames\n",
    "                         data_new_rows],\n",
    "                        ignore_index = True,\n",
    "                        sort = False)\n",
    "print(data_append) "
   ]
  },
  {
   "cell_type": "code",
   "execution_count": 38,
   "metadata": {},
   "outputs": [
    {
     "name": "stdout",
     "output_type": "stream",
     "text": [
      "  x1  x2 x3  x4\n",
      "5  x  20  f  10\n",
      "4  x  19  e  12\n",
      "3  y  18  d  14\n",
      "2  x  17  c  16\n",
      "1  y  16  b  18\n",
      "0  x  15  a  20\n"
     ]
    }
   ],
   "source": [
    "# Sort Rows of pandas DataFrame\n",
    "data_sort = data.copy()                                    # Duplicate DataFrame\n",
    "data_sort = data_sort.sort_values(\"x4\")                    # Order DataFrame\n",
    "print(data_sort)  "
   ]
  },
  {
   "cell_type": "markdown",
   "metadata": {},
   "source": [
    "# 6"
   ]
  },
  {
   "cell_type": "markdown",
   "metadata": {},
   "source": [
    " Panel can be illustrated as a container of a DataFrame. In Panel Data and size are mutable"
   ]
  },
  {
   "cell_type": "markdown",
   "metadata": {},
   "source": [
    "# 7"
   ]
  },
  {
   "cell_type": "code",
   "execution_count": 39,
   "metadata": {},
   "outputs": [
    {
     "data": {
      "text/html": [
       "<div>\n",
       "<style scoped>\n",
       "    .dataframe tbody tr th:only-of-type {\n",
       "        vertical-align: middle;\n",
       "    }\n",
       "\n",
       "    .dataframe tbody tr th {\n",
       "        vertical-align: top;\n",
       "    }\n",
       "\n",
       "    .dataframe thead th {\n",
       "        text-align: right;\n",
       "    }\n",
       "</style>\n",
       "<table border=\"1\" class=\"dataframe\">\n",
       "  <thead>\n",
       "    <tr style=\"text-align: right;\">\n",
       "      <th></th>\n",
       "      <th>students</th>\n",
       "      <th>subject</th>\n",
       "      <th>marks</th>\n",
       "    </tr>\n",
       "  </thead>\n",
       "  <tbody>\n",
       "    <tr>\n",
       "      <th>0</th>\n",
       "      <td>ABC</td>\n",
       "      <td>C++</td>\n",
       "      <td>90</td>\n",
       "    </tr>\n",
       "    <tr>\n",
       "      <th>1</th>\n",
       "      <td>DEF</td>\n",
       "      <td>C#</td>\n",
       "      <td>30</td>\n",
       "    </tr>\n",
       "    <tr>\n",
       "      <th>2</th>\n",
       "      <td>GHI</td>\n",
       "      <td>RUBY</td>\n",
       "      <td>50</td>\n",
       "    </tr>\n",
       "    <tr>\n",
       "      <th>3</th>\n",
       "      <td>JKL</td>\n",
       "      <td>SWIFT</td>\n",
       "      <td>70</td>\n",
       "    </tr>\n",
       "    <tr>\n",
       "      <th>4</th>\n",
       "      <td>MNO</td>\n",
       "      <td>GO</td>\n",
       "      <td>80</td>\n",
       "    </tr>\n",
       "    <tr>\n",
       "      <th>5</th>\n",
       "      <td>PQR</td>\n",
       "      <td>PYTHON</td>\n",
       "      <td>60</td>\n",
       "    </tr>\n",
       "  </tbody>\n",
       "</table>\n",
       "</div>"
      ],
      "text/plain": [
       "  students subject  marks\n",
       "0      ABC     C++     90\n",
       "1      DEF      C#     30\n",
       "2      GHI    RUBY     50\n",
       "3      JKL   SWIFT     70\n",
       "4      MNO      GO     80\n",
       "5      PQR  PYTHON     60"
      ]
     },
     "execution_count": 39,
     "metadata": {},
     "output_type": "execute_result"
    }
   ],
   "source": [
    "def createSeries (series_list):\n",
    "   \n",
    "  # create a series\n",
    "  series_list = pd.Series(series_list)\n",
    "   \n",
    "  return series_list\n",
    " \n",
    "# create a series of students\n",
    "students = createSeries(['ABC', 'DEF',\n",
    "                         'GHI', 'JKL',\n",
    "                         'MNO', 'PQR']) \n",
    "# create a series of subjects\n",
    "subject = createSeries(['C++', 'C#',\n",
    "                        'RUBY', 'SWIFT',\n",
    "                        'GO', 'PYTHON'])\n",
    "# create a series of marks\n",
    "marks = createSeries([90, 30,\n",
    "                      50, 70,\n",
    "                      80, 60])\n",
    "# create a dictionary\n",
    "data = {\"students\": students,\n",
    "        \"subject\": subject,\n",
    "        \"marks\": marks}\n",
    " \n",
    "# Concatenating the series side\n",
    "# by side as depicted by axis=1\n",
    "# If you want to concatenate the\n",
    "# series one below the other\n",
    "# change the axis to zero.\n",
    "df = pd.concat(data,\n",
    "               axis = 1)\n",
    " \n",
    "# show the dataframe\n",
    "df"
   ]
  },
  {
   "cell_type": "markdown",
   "metadata": {},
   "source": [
    "Using pandas.concat().\n",
    "\n",
    "This method does all of the heavy lifting of performing concatenation operations along an axis while performing optional set logic (union or intersection) of the indexes (if any) on the other axes."
   ]
  },
  {
   "cell_type": "code",
   "execution_count": null,
   "metadata": {},
   "outputs": [],
   "source": []
  }
 ],
 "metadata": {
  "kernelspec": {
   "display_name": "Python 3.8.10 64-bit",
   "language": "python",
   "name": "python3"
  },
  "language_info": {
   "codemirror_mode": {
    "name": "ipython",
    "version": 3
   },
   "file_extension": ".py",
   "mimetype": "text/x-python",
   "name": "python",
   "nbconvert_exporter": "python",
   "pygments_lexer": "ipython3",
   "version": "3.8.10"
  },
  "orig_nbformat": 4,
  "vscode": {
   "interpreter": {
    "hash": "e7370f93d1d0cde622a1f8e1c04877d8463912d04d973331ad4851f04de6915a"
   }
  }
 },
 "nbformat": 4,
 "nbformat_minor": 2
}
